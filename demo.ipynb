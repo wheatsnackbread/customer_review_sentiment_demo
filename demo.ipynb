{
 "cells": [
  {
   "cell_type": "markdown",
   "metadata": {},
   "source": [
    "#### Prereqs\n",
    "\n",
    "This script requires a customerfeedback.json in the same directory as well as a .env file containing the variable AZURE_OPENAI_KEY='...'.\n",
    "In the function definition section, you'll need to change the name of the model to the model name you specified when deploying on Azure OpenAI."
   ]
  },
  {
   "cell_type": "markdown",
   "metadata": {},
   "source": [
    "Read the submitted JSON files"
   ]
  },
  {
   "cell_type": "code",
   "execution_count": 4,
   "metadata": {},
   "outputs": [],
   "source": [
    "from openai import AzureOpenAI\n",
    "import os\n",
    "from decimal import Decimal\n",
    "from datetime import date\n",
    "import dotenv\n",
    "\n",
    "dotenv.load_dotenv()\n",
    "client = AzureOpenAI()\n",
    "\n",
    "# Read the .json file into a text string\n",
    "file_path = \"customerfeedback.json\"\n",
    "\n",
    "with open(file_path, \"r\") as file:\n",
    "    text_string = file.read()\n",
    "\n",
    "# print(text_string)"
   ]
  },
  {
   "cell_type": "markdown",
   "metadata": {},
   "source": [
    "Define and call a function to retrieve analysis of the content"
   ]
  },
  {
   "cell_type": "code",
   "execution_count": 8,
   "metadata": {},
   "outputs": [],
   "source": [
    "def gpt_4o_analysis(question, context):\n",
    "    \"\"\"\n",
    "    Uses the GPT-4o model on Azure OpenAI endpoint to generate a conversational response.\n",
    "    \"\"\"\n",
    "    messages = [\n",
    "        {\n",
    "            \"role\": \"system\",\n",
    "            # Restritive and responsible system prompting\n",
    "            \"content\": \"You are a business analyst tasked with handling customer sentiment regarding your products. Based on the user's question and relevant information retrieved, provide a detailed response. If there was not relevant information retrieved or you cannot answer confidently, let the user know.\",\n",
    "        },\n",
    "        {\"role\": \"user\", \"content\": f\"The provided context is: {context}\"},\n",
    "        {\"role\": \"user\", \"content\": f\"The user's question is: {question}\"},\n",
    "    ]\n",
    "\n",
    "    response = client.chat.completions.create(\n",
    "        model=\"liq-gpt-4o\",  # for Azure # Running off Ray's personal Microsoft for Startups account\n",
    "        # model=\"gpt-4o\", # for OpenAI\n",
    "        max_tokens=200,\n",
    "        n=1,\n",
    "        stop=None,\n",
    "        temperature=0.3,\n",
    "        messages=messages,\n",
    "    )\n",
    "\n",
    "    return response.choices[0].message.content.strip()"
   ]
  },
  {
   "cell_type": "code",
   "execution_count": 6,
   "metadata": {},
   "outputs": [
    {
     "name": "stdout",
     "output_type": "stream",
     "text": [
      "Based on the provided customer feedback for the \"Mountain-200 Black\" bike, here is an analysis of the sentiment, key themes, and some statistics:\n",
      "\n",
      "### Sentiment Analysis:\n",
      "The overall sentiment of the customer feedback is mixed, with a significant number of positive reviews but also a notable amount of negative feedback.\n",
      "\n",
      "- **Positive Sentiment**: Many customers have praised the bike for its smooth ride, durability, performance on trails, and overall value for money.\n",
      "- **Negative Sentiment**: Some customers have expressed dissatisfaction with specific components such as the seat, gear shifting, brakes, and overall bike weight. There are also complaints about the bike's durability and customer service.\n",
      "\n",
      "### Key Themes:\n",
      "1. **Ride Quality and Performance**:\n",
      "   - Positive: \"Absolutely love it! The ride is smooth and the bike is very durable.\", \"Took it on a trail ride and it performed wonderfully.\", \"Best bike I've owned. It's perfect for off-road trails.\"\n",
      "   - Negative: \"Decent bike but had issues with the gear shifting.\", \"Not what I expected, the bike feels a bit heavy.\"\n",
      "\n",
      "2. **Comfort**:\n",
      "   - Positive: \"Love the design and the performance is top-notch.\"\n",
      "   - Negative: \"Only wish the seat was more comfortable.\", \"Handles well on rough terrain, but the seat is uncomfortable.\"\n",
      "\n",
      "3. **Durability and Build Quality**:\n",
      "   - Positive: \"Solid build and good value for the money.\", \"I'm impressed with the quality at this price point.\"\n",
      "   - Negative: \"The frame bent after a few uses, not durable at all.\", \"Multiple parts needed replacement within the first year.\"\n",
      "\n",
      "4. **Customer Service**:\n",
      "   - Negative: \"Poor customer service and the bike's quality is subpar.\"\n",
      "\n",
      "5. **Value for Money**:\n",
      "   - Positive: \"Great bike for the price.\", \"Good bike overall but had to replace the pedals.\"\n",
      "\n",
      "### Statistics:\n",
      "- **Total Reviews Analyzed**: 24\n",
      "- **Rating Distribution**:\n",
      "  - 5 stars: 8 reviews\n",
      "  - 4 stars: 8 reviews\n",
      "  - 3 stars: 5 reviews\n",
      "  - 2 stars: 4 reviews\n",
      "  - 1 star: 5 reviews\n",
      "\n",
      "- **Positive Reviews (4-5 stars)**: 16 reviews (66.67%)\n",
      "- **Neutral to Negative Reviews (1-3 stars)**: 8 reviews (33.33%)\n",
      "\n",
      "### Summary:\n"
     ]
    }
   ],
   "source": [
    "# Call the function with the JSON and a sample prompt and context.\n",
    "response = gpt_4o_analysis(\"What is the sentiment of this customer feedback? Can you identify some key themes and stats?\", text_string)\n",
    "print(response)\n"
   ]
  }
 ],
 "metadata": {
  "kernelspec": {
   "display_name": "Python 3",
   "language": "python",
   "name": "python3"
  },
  "language_info": {
   "codemirror_mode": {
    "name": "ipython",
    "version": 3
   },
   "file_extension": ".py",
   "mimetype": "text/x-python",
   "name": "python",
   "nbconvert_exporter": "python",
   "pygments_lexer": "ipython3",
   "version": "3.10.11"
  }
 },
 "nbformat": 4,
 "nbformat_minor": 2
}
